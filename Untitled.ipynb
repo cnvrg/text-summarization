{
 "cells": [
  {
   "cell_type": "code",
   "execution_count": 11,
   "id": "88c3e40d-3f75-4c08-9d90-2f3fc6aadcd4",
   "metadata": {},
   "outputs": [
    {
     "name": "stdout",
     "output_type": "stream",
     "text": [
      "{\"prediction\":{\"summary\":\"This walkthrough is my second walkthrough ever. The first was a walkthrough for the NWN expansion Hordes of the Underdark, a project that was unfortunately never finished. The initial walkthrough will not include quest names and rewards. I may add this later, depending on how much time I have, and how much I enjoy writing this little document. And, of course, how desired it is. Eventually It will be completed. It is written while Iam playing through the game for the first and second time, so bear with me if some information is lacking. It will depend on how important these things are to the game, and to anyone reading this, and will be updated as I get more time to work on it.\"}}\n",
      "\n"
     ]
    }
   ],
   "source": [
    "import http.client\n",
    "\n",
    "conn = http.client.HTTPSConnection(\"inference-9-1.auhtnqt8otnuzkjh8vscouk.staging-cloud.cnvrg.io\", 443)\n",
    "\n",
    "payload = \"{\\\"input_params\\\":\" + json.dumps(request_dict) + \"}\"\n",
    "\n",
    "headers = {\n",
    "    'Cnvrg-Api-Key': \"2TUsb3FfhDrVPLvakGF2Fo3g\",\n",
    "    'Content-Type': \"application/json\"\n",
    "    }\n",
    "\n",
    "conn.request(\"POST\", \"/api/v1/endpoints/h84svqtzdq6hof2w3lrx\", payload, headers)\n",
    "\n",
    "res = conn.getresponse()\n",
    "data = res.read()\n",
    "\n",
    "print(data.decode(\"utf-8\"))"
   ]
  },
  {
   "cell_type": "code",
   "execution_count": 8,
   "id": "b5bee668-aae3-4651-8680-4ec2dfe2fd61",
   "metadata": {},
   "outputs": [],
   "source": [
    "request_dict = {'txt':\"This walkthrough is my second walkthrough ever. The first was a walkthrough for the NWN expansion Hordes of the Underdark, a project that was unfortunately never finished. I am afraid the game lost me in chapter 3, and once I finally decided to complete it, I had lost my old account information at gamefaqs. I am not one for massive amounts of information about the game techniques and rules. While I respect the authors adding such things, my primary focus has always been on seeing all the content available to me in any given game, and thus, my focus will be on the gameplay itself, and not so much the mechanics surrounding it. My hope is to, in time, compile a full list of alignment changes and influence changes, but I must admit it will depend on how important these things are to the game, and to anyone reading this. The initial walkthrough is written while Iam playing through the game for the first and second time, so bear with me if some information is lacking. Eventually It will be completed. The initial walkthrough will not include quest names and rewards. I may add this later, depending on how much time I have, and how much I enjoy writing this little document. And, of course, how desired that info is. Oh, by the way, I am from Denmark so please, do inform me if some of my English seems confusing or hard to understand, since I may simply have made a bad translation. Get ready for a big battle. Enter the camp and start slaughtering those bandits like no tomorrow. Once the area is clean of bandits and loot alike, go to the prisoner pen. They will ask you to get them out of there fast, but while you are talking, you will be discovered. Kill all the newly arrived bandits and lead the poor hostages outside the camp. They will tell you to meet them in Fort Locke. Ask for a reward to get +1 evil. Of course they don't thank Neeshka, so in the following conversation, tell her you have my thanks for +1 INF. Do note that if you simply clear the outside and enter the house before freeing the prisoners, you will avoid the second group of bandits outside if you convince the bandit chief to cooperate.\"}\n",
    "#json.dumps(request_dict)\n",
    "#request_dict = {'txt':'Halo'}"
   ]
  },
  {
   "cell_type": "code",
   "execution_count": 9,
   "id": "3d3c473b-bc46-46f2-b331-3592a62a51e3",
   "metadata": {},
   "outputs": [],
   "source": [
    "payload = \"{\\\"input_params\\\":\" + json.dumps(request_dict) + \"}\""
   ]
  },
  {
   "cell_type": "code",
   "execution_count": 1,
   "id": "d55fbc94-e303-46a6-ba60-e3b964c532f3",
   "metadata": {},
   "outputs": [],
   "source": [
    "import os\n",
    "import json"
   ]
  },
  {
   "cell_type": "code",
   "execution_count": null,
   "id": "1afa6eb1-9c12-4bdb-a224-d9e41f9687b7",
   "metadata": {},
   "outputs": [],
   "source": []
  }
 ],
 "metadata": {
  "kernelspec": {
   "display_name": "Python 3",
   "language": "python",
   "name": "python3"
  },
  "language_info": {
   "codemirror_mode": {
    "name": "ipython",
    "version": 3
   },
   "file_extension": ".py",
   "mimetype": "text/x-python",
   "name": "python",
   "nbconvert_exporter": "python",
   "pygments_lexer": "ipython3",
   "version": "3.6.9"
  }
 },
 "nbformat": 4,
 "nbformat_minor": 5
}
